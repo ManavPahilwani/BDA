{
 "cells": [
  {
   "cell_type": "code",
   "execution_count": 7,
   "id": "2159f116",
   "metadata": {},
   "outputs": [],
   "source": [
    "from collections import defaultdict"
   ]
  },
  {
   "cell_type": "code",
   "execution_count": 8,
   "id": "68874be8",
   "metadata": {},
   "outputs": [],
   "source": [
    "input_data = [\n",
    "    (\"document1\", \"This is a sample document.\"),\n",
    "    (\"document2\", \"Another sample document with more words Manav Pahilwani\"),\n",
    "    (\"document3\", \"This is the third document Nikita Jethani\"),\n",
    "]"
   ]
  },
  {
   "cell_type": "code",
   "execution_count": 9,
   "id": "961470b2",
   "metadata": {},
   "outputs": [],
   "source": [
    "def map_function(data):\n",
    "    word_count = defaultdict(int)\n",
    "    document_name, document_content = data\n",
    "    words = document_content.split()\n",
    "    for word in words:\n",
    "        word_count[word] += 1\n",
    "    return word_count.items()"
   ]
  },
  {
   "cell_type": "code",
   "execution_count": 10,
   "id": "c4af6068",
   "metadata": {},
   "outputs": [],
   "source": [
    "def reduce_function(data):\n",
    "    word_count = defaultdict(int)\n",
    "    for word, count in data:\n",
    "        word_count[word] += count\n",
    "    return word_count.items()"
   ]
  },
  {
   "cell_type": "code",
   "execution_count": 11,
   "id": "40b689a1",
   "metadata": {},
   "outputs": [],
   "source": [
    "intermediate_data = []\n",
    "for item in input_data:\n",
    "    intermediate_data.extend(map_function(item))"
   ]
  },
  {
   "cell_type": "code",
   "execution_count": 13,
   "id": "74a54e1d",
   "metadata": {},
   "outputs": [
    {
     "name": "stdout",
     "output_type": "stream",
     "text": [
      "This:2\n",
      "is:2\n",
      "a:1\n",
      "sample:2\n",
      "document.:1\n",
      "Another:1\n",
      "document:2\n",
      "with:1\n",
      "more:1\n",
      "words:1\n",
      "Manav:1\n",
      "Pahilwani:1\n",
      "the:1\n",
      "third:1\n",
      "Nikita:1\n",
      "Jethani:1\n"
     ]
    }
   ],
   "source": [
    "final_output = defaultdict(int)\n",
    "for key, value in intermediate_data:\n",
    "    final_output[key] += value\n",
    "for word, count in final_output.items():\n",
    "    print(f\"{word}:{count}\")"
   ]
  }
 ],
 "metadata": {
  "kernelspec": {
   "display_name": "Python 3 (ipykernel)",
   "language": "python",
   "name": "python3"
  },
  "language_info": {
   "codemirror_mode": {
    "name": "ipython",
    "version": 3
   },
   "file_extension": ".py",
   "mimetype": "text/x-python",
   "name": "python",
   "nbconvert_exporter": "python",
   "pygments_lexer": "ipython3",
   "version": "3.9.13"
  }
 },
 "nbformat": 4,
 "nbformat_minor": 5
}
